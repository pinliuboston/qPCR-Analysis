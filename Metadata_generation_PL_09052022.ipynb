{
 "cells": [
  {
   "cell_type": "markdown",
   "id": "b113367a",
   "metadata": {
    "deletable": false
   },
   "source": [
    "### Sanegene Bio USA qPCR Metadata Generator\n",
    "#### by Pin Liu 09/05/2022\n",
    "\n",
    "#### Before you use the qPCR analysis code, prepare the qPCR metadata using this code.\n",
    "1. Prepare the \"qPCR_single_parameter_platemap\" in xlsx format.\n",
    "2. Copy the \"qPCR_single_parameter_platemap\" to the folder: C:/Users/pinli/Documents/qPCR Analysis/User folder\n",
    "\n",
    "#### To run this code:\n",
    "1. ONLY modify ONE parameters in section 1!!!\n",
    "2. In section 1, input \"num_genes\". For example, if one target gene and one reference gene are tested, the num_genes will be 2; if one target gene and two reference genes are tested, the num_genes will be 3.\n",
    "3. Click \"▶▶\", then click \"Restart and Run All Cells\"\n",
    "4. Metadata can be found at: C:/Users/pinli/Documents/qPCR Analysis/User folder\n",
    "\n",
    "#### Questions and comments: pliu@sanegenebio.com"
   ]
  },
  {
   "cell_type": "code",
   "execution_count": 1,
   "id": "ddf854f1",
   "metadata": {},
   "outputs": [],
   "source": [
    "# This is the path where metadata and qPCR analysis result is saved.\n",
    "path = 'C:/Users/pinli/Documents/qPCR Analysis/User folder/'\n",
    "\n",
    "# User to input file name\n",
    "file = 'qPCR_single_parameter_platemap' + '.xlsx'\n",
    "\n",
    "# User to indicate the number of targets (reporters) in the qPCR. Eg, if one target gene and one reference gene are tested,\n",
    "# the num_genes will be 2; if one target gene and two reference genes are tested, the num_genes will be 3.\n",
    "num_genes = 2\n"
   ]
  },
  {
   "cell_type": "code",
   "execution_count": 2,
   "id": "8599d346",
   "metadata": {
    "deletable": false
   },
   "outputs": [],
   "source": [
    "import pandas as pd\n",
    "import numpy as np\n",
    "\n",
    "# df to store the platemaps of single parameters\n",
    "df = pd.read_excel(path + file, None)\n",
    "df_tissue = df.get('Platemap_single_Tissue')\n",
    "df_group = df.get('Platemap_single_Group')\n",
    "df_cmpd = df.get('Platemap_single_Compound')\n",
    "df_dose = df.get('Platemap_single_Dose')\n",
    "df_duration = df.get('Platemap_single_Duration')\n",
    "df_animal = df.get('Platemap_single_Animal#')\n",
    "df_techRep = df.get('Platemap_single_TechRep')\n",
    "df_well = df.get('Platemap_single_Well')\n",
    "\n",
    "# generate df2 to hold all the parameters\n",
    "k = 0\n",
    "df1 = pd.DataFrame()\n",
    "for i in range(df_well.shape[0]):\n",
    "    for j in range(1, df_well.shape[1]):\n",
    "        df1.at[k, 'WellId'] = df_well.iloc[i, j]\n",
    "        df1.at[k, 'Tissue'] = df_tissue.iloc[i, j]\n",
    "        df1.at[k, 'Group'] = df_group.iloc[i, j]\n",
    "        df1.at[k, 'Compound'] = df_cmpd.iloc[i, j]\n",
    "        df1.at[k, 'Dose'] = df_dose.iloc[i, j]\n",
    "        df1.at[k, 'Duration'] = df_duration.iloc[i, j]\n",
    "        df1.at[k, 'Animal#'] = df_animal.iloc[i, j]\n",
    "        df1.at[k, 'TechRep'] = df_techRep.iloc[i, j]\n",
    "        k = k + 1\n",
    "        \n",
    "treatment_cols = ['Compound', 'Duration', 'Dose']\n",
    "df1['Treatment'] = df1[treatment_cols].apply(lambda row: '_'.join(row.values.astype(str)), axis=1)\n",
    "df1['SampleId'] = df1[['Tissue', 'Treatment', 'Animal#']].apply(lambda row: '_'.join(row.values.astype(str)), axis=1)\n",
    "\n",
    "df2 = pd.concat([df1]*num_genes, ignore_index = True)\n",
    "# df2 = pd.DataFrame(np.repeat(df1.values, num_genes, axis=0))\n",
    "# df2.columns = df1.columns\n",
    "        \n",
    "df2.to_excel(path + 'qPCR_metadata_' + str(num_genes) + '_genes.xlsx', index = False)"
   ]
  }
 ],
 "metadata": {
  "celltoolbar": "Edit Metadata",
  "kernelspec": {
   "display_name": "Python 3 (ipykernel)",
   "language": "python",
   "name": "python3"
  },
  "language_info": {
   "codemirror_mode": {
    "name": "ipython",
    "version": 3
   },
   "file_extension": ".py",
   "mimetype": "text/x-python",
   "name": "python",
   "nbconvert_exporter": "python",
   "pygments_lexer": "ipython3",
   "version": "3.9.12"
  }
 },
 "nbformat": 4,
 "nbformat_minor": 5
}
